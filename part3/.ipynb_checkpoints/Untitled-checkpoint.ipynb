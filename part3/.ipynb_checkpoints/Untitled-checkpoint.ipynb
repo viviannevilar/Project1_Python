{
 "cells": [
  {
   "cell_type": "code",
   "execution_count": null,
   "metadata": {},
   "outputs": [],
   "source": [
    "import json\n",
    "import plotly.express as px\n",
    "import csv\n",
    "\n"
   ]
  },
  {
   "cell_type": "code",
   "execution_count": null,
   "metadata": {},
   "outputs": [],
   "source": [
    "##******************************##\n",
    "## Lists and variables          ##\n",
    "##***************************** ##\n",
    "col_date = []\n",
    "temp_data = []\n",
    "real_feel_data = []\n",
    "my_list = []\n",
    "forecast_file = \"data/historical_24hours_a.json\"\n",
    "\n",
    "# read from json file\n",
    "with open(forecast_file) as json_file:\n",
    "    json_data = json.load(json_file)\n",
    "\n",
    "for item in json_data:    \n",
    "    temperature = (item[\"Temperature\"][\"Metric\"][\"Value\"])\n",
    "    temp_data.append(temperature)# append to the list   \n",
    "    RealFeelTemperature = (item[\"RealFeelTemperature\"][\"Metric\"][\"Value\"])\n",
    "    real_feel_data.append(RealFeelTemperature)# append to the list\n",
    "    time = item[\"LocalObservationDateTime\"]# get date from json file\n",
    "    col_date.append(time)# append to the list\n",
    "\n"
   ]
  },
  {
   "cell_type": "code",
   "execution_count": null,
   "metadata": {},
   "outputs": [],
   "source": [
    "# ##Store data from three lists to MAIN List \n",
    "\n",
    "my_list = [temp_data, real_feel_data, col_date]\n",
    "# print(my_list)\n",
    "\n",
    "\n"
   ]
  },
  {
   "cell_type": "code",
   "execution_count": null,
   "metadata": {},
   "outputs": [],
   "source": [
    "# Declare dataframe\n",
    "df = {\n",
    "    \"temp\": [temp_data],\n",
    "    \"real\": [real_feel_data],\n",
    "    \"coldate\": [col_date]\n",
    "}\n",
    "\n"
   ]
  },
  {
   "cell_type": "code",
   "execution_count": null,
   "metadata": {},
   "outputs": [],
   "source": [
    "fig = px.box(\n",
    "    df,  \n",
    "    x=\"coldate\",\n",
    "    y=\"temp\"\n",
    "    )\n",
    "fig.show()\n",
    "\n",
    "\n",
    "\n"
   ]
  }
 ],
 "metadata": {
  "kernelspec": {
   "display_name": "Python 3",
   "language": "python",
   "name": "python3"
  },
  "language_info": {
   "codemirror_mode": {
    "name": "ipython",
    "version": 3
   },
   "file_extension": ".py",
   "mimetype": "text/x-python",
   "name": "python",
   "nbconvert_exporter": "python",
   "pygments_lexer": "ipython3",
   "version": "3.7.8"
  }
 },
 "nbformat": 4,
 "nbformat_minor": 4
}
